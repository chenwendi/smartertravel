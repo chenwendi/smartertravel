{
 "cells": [
  {
   "cell_type": "markdown",
   "metadata": {},
   "source": [
    "This python notebook reads in features that have already been generated and saved to csv file."
   ]
  },
  {
   "cell_type": "code",
   "execution_count": 1,
   "metadata": {
    "collapsed": false
   },
   "outputs": [],
   "source": [
    "import pandas as pd\n",
    "import numpy as np\n",
    "agg_data = pd.read_csv(\"../all_features.csv\", low_memory=False)"
   ]
  },
  {
   "cell_type": "code",
   "execution_count": 2,
   "metadata": {
    "collapsed": false
   },
   "outputs": [
    {
     "name": "stdout",
     "output_type": "stream",
     "text": [
      "3.6.0 |Anaconda 4.3.1 (x86_64)| (default, Dec 23 2016, 13:19:00) \n",
      "[GCC 4.2.1 Compatible Apple LLVM 6.0 (clang-600.0.57)]\n"
     ]
    }
   ],
   "source": [
    "import sys\n",
    "print (sys.version)"
   ]
  },
  {
   "cell_type": "code",
   "execution_count": 3,
   "metadata": {
    "collapsed": false
   },
   "outputs": [
    {
     "name": "stdout",
     "output_type": "stream",
     "text": [
      "(234105, 42)\n"
     ]
    },
    {
     "data": {
      "text/html": [
       "<div>\n",
       "<table border=\"1\" class=\"dataframe\">\n",
       "  <thead>\n",
       "    <tr style=\"text-align: right;\">\n",
       "      <th></th>\n",
       "      <th>num_results</th>\n",
       "      <th>stay_duration</th>\n",
       "      <th>days_advance</th>\n",
       "      <th>historical_searches</th>\n",
       "      <th>log_historical_searches</th>\n",
       "      <th>historical_clicks</th>\n",
       "      <th>historical_sessions</th>\n",
       "      <th>device_pc</th>\n",
       "      <th>device_tablet</th>\n",
       "      <th>device_windows</th>\n",
       "      <th>...</th>\n",
       "      <th>dest_loc_es</th>\n",
       "      <th>dest_loc_fr</th>\n",
       "      <th>dest_loc_mx</th>\n",
       "      <th>dest_loc_de</th>\n",
       "      <th>has_dest_city</th>\n",
       "      <th>has_municipality</th>\n",
       "      <th>num_weekdays</th>\n",
       "      <th>prop_weekdays</th>\n",
       "      <th>mys_feature_1_mean</th>\n",
       "      <th>mys_feature_2</th>\n",
       "    </tr>\n",
       "  </thead>\n",
       "  <tbody>\n",
       "    <tr>\n",
       "      <th>0</th>\n",
       "      <td>6</td>\n",
       "      <td>5</td>\n",
       "      <td>98</td>\n",
       "      <td>6</td>\n",
       "      <td>1.945910</td>\n",
       "      <td>0</td>\n",
       "      <td>0</td>\n",
       "      <td>True</td>\n",
       "      <td>False</td>\n",
       "      <td>True</td>\n",
       "      <td>...</td>\n",
       "      <td>False</td>\n",
       "      <td>False</td>\n",
       "      <td>False</td>\n",
       "      <td>False</td>\n",
       "      <td>True</td>\n",
       "      <td>False</td>\n",
       "      <td>4</td>\n",
       "      <td>0.666667</td>\n",
       "      <td>24.192920</td>\n",
       "      <td>102.651187</td>\n",
       "    </tr>\n",
       "    <tr>\n",
       "      <th>1</th>\n",
       "      <td>10</td>\n",
       "      <td>2</td>\n",
       "      <td>22</td>\n",
       "      <td>1</td>\n",
       "      <td>0.693147</td>\n",
       "      <td>0</td>\n",
       "      <td>0</td>\n",
       "      <td>True</td>\n",
       "      <td>False</td>\n",
       "      <td>False</td>\n",
       "      <td>...</td>\n",
       "      <td>False</td>\n",
       "      <td>False</td>\n",
       "      <td>False</td>\n",
       "      <td>False</td>\n",
       "      <td>True</td>\n",
       "      <td>False</td>\n",
       "      <td>0</td>\n",
       "      <td>0.000000</td>\n",
       "      <td>115.696186</td>\n",
       "      <td>23.976558</td>\n",
       "    </tr>\n",
       "  </tbody>\n",
       "</table>\n",
       "<p>2 rows × 42 columns</p>\n",
       "</div>"
      ],
      "text/plain": [
       "   num_results  stay_duration  days_advance  historical_searches  \\\n",
       "0            6              5            98                    6   \n",
       "1           10              2            22                    1   \n",
       "\n",
       "   log_historical_searches  historical_clicks  historical_sessions device_pc  \\\n",
       "0                 1.945910                  0                    0      True   \n",
       "1                 0.693147                  0                    0      True   \n",
       "\n",
       "  device_tablet device_windows      ...      dest_loc_es dest_loc_fr  \\\n",
       "0         False           True      ...            False       False   \n",
       "1         False          False      ...            False       False   \n",
       "\n",
       "  dest_loc_mx dest_loc_de has_dest_city has_municipality num_weekdays  \\\n",
       "0       False       False          True            False            4   \n",
       "1       False       False          True            False            0   \n",
       "\n",
       "  prop_weekdays mys_feature_1_mean mys_feature_2  \n",
       "0      0.666667          24.192920    102.651187  \n",
       "1      0.000000         115.696186     23.976558  \n",
       "\n",
       "[2 rows x 42 columns]"
      ]
     },
     "execution_count": 3,
     "metadata": {},
     "output_type": "execute_result"
    }
   ],
   "source": [
    "X = agg_data.drop(['ad_clicks', 'search_id'], axis = 1)  \n",
    "X = X.drop(['num_weeknights', 'mys_feature_1_min', 'mys_feature_1_max'], axis = 1)  #remove feature that's highly correlated\n",
    "y = (agg_data.ad_clicks > 0)\n",
    "X = pd.get_dummies(X)\n",
    "feature_names = list(X)\n",
    "print(X.shape)\n",
    "X.head(2)"
   ]
  },
  {
   "cell_type": "code",
   "execution_count": 4,
   "metadata": {
    "collapsed": false
   },
   "outputs": [
    {
     "name": "stdout",
     "output_type": "stream",
     "text": [
      "(234105, 42)\n"
     ]
    }
   ],
   "source": [
    "from sklearn.feature_selection import VarianceThreshold\n",
    "selector = VarianceThreshold()\n",
    "X = selector.fit_transform(X)   #this doesn't apply to any of the features\n",
    "print(X.shape)\n",
    "\n",
    "#setup train/test\n",
    "from sklearn.model_selection import train_test_split\n",
    "X_train, X_test, y_train, y_test = train_test_split(X, y, test_size = 0.3, random_state = 0)\n",
    "\n",
    "#preprocess data\n",
    "from sklearn.preprocessing import StandardScaler\n",
    "sc = StandardScaler()\n",
    "sc.fit(X_train)\n",
    "X_train_std = sc.transform(X_train)\n",
    "X_test_std = sc.transform(X_test)"
   ]
  },
  {
   "cell_type": "code",
   "execution_count": 20,
   "metadata": {
    "collapsed": false
   },
   "outputs": [
    {
     "data": {
      "text/plain": [
       "(70232,)"
      ]
     },
     "execution_count": 20,
     "metadata": {},
     "output_type": "execute_result"
    }
   ],
   "source": [
    "y_test.shape"
   ]
  },
  {
   "cell_type": "code",
   "execution_count": 5,
   "metadata": {
    "collapsed": false
   },
   "outputs": [
    {
     "data": {
      "text/html": [
       "<div>\n",
       "<table border=\"1\" class=\"dataframe\">\n",
       "  <thead>\n",
       "    <tr style=\"text-align: right;\">\n",
       "      <th></th>\n",
       "      <th>num_results</th>\n",
       "      <th>stay_duration</th>\n",
       "      <th>days_advance</th>\n",
       "      <th>historical_searches</th>\n",
       "      <th>log_historical_searches</th>\n",
       "      <th>historical_clicks</th>\n",
       "      <th>historical_sessions</th>\n",
       "      <th>device_pc</th>\n",
       "      <th>device_tablet</th>\n",
       "      <th>device_windows</th>\n",
       "      <th>...</th>\n",
       "      <th>dest_loc_es</th>\n",
       "      <th>dest_loc_fr</th>\n",
       "      <th>dest_loc_mx</th>\n",
       "      <th>dest_loc_de</th>\n",
       "      <th>has_dest_city</th>\n",
       "      <th>has_municipality</th>\n",
       "      <th>num_weekdays</th>\n",
       "      <th>prop_weekdays</th>\n",
       "      <th>mys_feature_1_mean</th>\n",
       "      <th>mys_feature_2</th>\n",
       "    </tr>\n",
       "  </thead>\n",
       "  <tbody>\n",
       "    <tr>\n",
       "      <th>0</th>\n",
       "      <td>1.310792</td>\n",
       "      <td>-0.004104</td>\n",
       "      <td>-0.309658</td>\n",
       "      <td>-0.081374</td>\n",
       "      <td>-0.478560</td>\n",
       "      <td>-0.051361</td>\n",
       "      <td>-0.254846</td>\n",
       "      <td>0.462932</td>\n",
       "      <td>-0.443424</td>\n",
       "      <td>-1.376878</td>\n",
       "      <td>...</td>\n",
       "      <td>8.274488</td>\n",
       "      <td>-0.092927</td>\n",
       "      <td>-0.139406</td>\n",
       "      <td>-0.074396</td>\n",
       "      <td>0.470485</td>\n",
       "      <td>-0.322717</td>\n",
       "      <td>-0.003822</td>\n",
       "      <td>0.520956</td>\n",
       "      <td>0.812792</td>\n",
       "      <td>-0.023600</td>\n",
       "    </tr>\n",
       "    <tr>\n",
       "      <th>1</th>\n",
       "      <td>-0.634439</td>\n",
       "      <td>0.003819</td>\n",
       "      <td>-0.563101</td>\n",
       "      <td>-0.081374</td>\n",
       "      <td>-0.478560</td>\n",
       "      <td>-0.051361</td>\n",
       "      <td>0.177142</td>\n",
       "      <td>-2.160146</td>\n",
       "      <td>2.255177</td>\n",
       "      <td>-1.376878</td>\n",
       "      <td>...</td>\n",
       "      <td>-0.120853</td>\n",
       "      <td>-0.092927</td>\n",
       "      <td>-0.139406</td>\n",
       "      <td>-0.074396</td>\n",
       "      <td>0.470485</td>\n",
       "      <td>-0.322717</td>\n",
       "      <td>0.004101</td>\n",
       "      <td>0.687046</td>\n",
       "      <td>-0.614234</td>\n",
       "      <td>-0.030905</td>\n",
       "    </tr>\n",
       "    <tr>\n",
       "      <th>2</th>\n",
       "      <td>-0.634439</td>\n",
       "      <td>0.003819</td>\n",
       "      <td>-0.563101</td>\n",
       "      <td>-0.086090</td>\n",
       "      <td>-1.015550</td>\n",
       "      <td>-0.051361</td>\n",
       "      <td>-0.254846</td>\n",
       "      <td>0.462932</td>\n",
       "      <td>-0.443424</td>\n",
       "      <td>-1.376878</td>\n",
       "      <td>...</td>\n",
       "      <td>-0.120853</td>\n",
       "      <td>-0.092927</td>\n",
       "      <td>-0.139406</td>\n",
       "      <td>-0.074396</td>\n",
       "      <td>-2.125467</td>\n",
       "      <td>-0.322717</td>\n",
       "      <td>0.004101</td>\n",
       "      <td>0.687046</td>\n",
       "      <td>-0.023220</td>\n",
       "      <td>-0.031484</td>\n",
       "    </tr>\n",
       "    <tr>\n",
       "      <th>3</th>\n",
       "      <td>-0.310234</td>\n",
       "      <td>-0.010896</td>\n",
       "      <td>-0.436379</td>\n",
       "      <td>-0.020074</td>\n",
       "      <td>1.082413</td>\n",
       "      <td>0.111303</td>\n",
       "      <td>0.609130</td>\n",
       "      <td>0.462932</td>\n",
       "      <td>-0.443424</td>\n",
       "      <td>0.726281</td>\n",
       "      <td>...</td>\n",
       "      <td>-0.120853</td>\n",
       "      <td>-0.092927</td>\n",
       "      <td>-0.139406</td>\n",
       "      <td>-0.074396</td>\n",
       "      <td>0.470485</td>\n",
       "      <td>-0.322717</td>\n",
       "      <td>-0.011746</td>\n",
       "      <td>-1.970388</td>\n",
       "      <td>-0.989844</td>\n",
       "      <td>-0.038232</td>\n",
       "    </tr>\n",
       "    <tr>\n",
       "      <th>4</th>\n",
       "      <td>-0.958644</td>\n",
       "      <td>0.003819</td>\n",
       "      <td>-0.563101</td>\n",
       "      <td>-0.086090</td>\n",
       "      <td>-1.015550</td>\n",
       "      <td>-0.051361</td>\n",
       "      <td>-0.254846</td>\n",
       "      <td>0.462932</td>\n",
       "      <td>-0.443424</td>\n",
       "      <td>-1.376878</td>\n",
       "      <td>...</td>\n",
       "      <td>-0.120853</td>\n",
       "      <td>-0.092927</td>\n",
       "      <td>-0.139406</td>\n",
       "      <td>-0.074396</td>\n",
       "      <td>-2.125467</td>\n",
       "      <td>-0.322717</td>\n",
       "      <td>0.004101</td>\n",
       "      <td>0.687046</td>\n",
       "      <td>-1.584085</td>\n",
       "      <td>-0.031487</td>\n",
       "    </tr>\n",
       "  </tbody>\n",
       "</table>\n",
       "<p>5 rows × 42 columns</p>\n",
       "</div>"
      ],
      "text/plain": [
       "   num_results  stay_duration  days_advance  historical_searches  \\\n",
       "0     1.310792      -0.004104     -0.309658            -0.081374   \n",
       "1    -0.634439       0.003819     -0.563101            -0.081374   \n",
       "2    -0.634439       0.003819     -0.563101            -0.086090   \n",
       "3    -0.310234      -0.010896     -0.436379            -0.020074   \n",
       "4    -0.958644       0.003819     -0.563101            -0.086090   \n",
       "\n",
       "   log_historical_searches  historical_clicks  historical_sessions  device_pc  \\\n",
       "0                -0.478560          -0.051361            -0.254846   0.462932   \n",
       "1                -0.478560          -0.051361             0.177142  -2.160146   \n",
       "2                -1.015550          -0.051361            -0.254846   0.462932   \n",
       "3                 1.082413           0.111303             0.609130   0.462932   \n",
       "4                -1.015550          -0.051361            -0.254846   0.462932   \n",
       "\n",
       "   device_tablet  device_windows      ...        dest_loc_es  dest_loc_fr  \\\n",
       "0      -0.443424       -1.376878      ...           8.274488    -0.092927   \n",
       "1       2.255177       -1.376878      ...          -0.120853    -0.092927   \n",
       "2      -0.443424       -1.376878      ...          -0.120853    -0.092927   \n",
       "3      -0.443424        0.726281      ...          -0.120853    -0.092927   \n",
       "4      -0.443424       -1.376878      ...          -0.120853    -0.092927   \n",
       "\n",
       "   dest_loc_mx  dest_loc_de  has_dest_city  has_municipality  num_weekdays  \\\n",
       "0    -0.139406    -0.074396       0.470485         -0.322717     -0.003822   \n",
       "1    -0.139406    -0.074396       0.470485         -0.322717      0.004101   \n",
       "2    -0.139406    -0.074396      -2.125467         -0.322717      0.004101   \n",
       "3    -0.139406    -0.074396       0.470485         -0.322717     -0.011746   \n",
       "4    -0.139406    -0.074396      -2.125467         -0.322717      0.004101   \n",
       "\n",
       "   prop_weekdays  mys_feature_1_mean  mys_feature_2  \n",
       "0       0.520956            0.812792      -0.023600  \n",
       "1       0.687046           -0.614234      -0.030905  \n",
       "2       0.687046           -0.023220      -0.031484  \n",
       "3      -1.970388           -0.989844      -0.038232  \n",
       "4       0.687046           -1.584085      -0.031487  \n",
       "\n",
       "[5 rows x 42 columns]"
      ]
     },
     "execution_count": 5,
     "metadata": {},
     "output_type": "execute_result"
    }
   ],
   "source": [
    "pd.DataFrame(X_train_std, columns=feature_names).head()"
   ]
  },
  {
   "cell_type": "code",
   "execution_count": 6,
   "metadata": {
    "collapsed": false
   },
   "outputs": [
    {
     "data": {
      "text/plain": [
       "212448    False\n",
       "77657     False\n",
       "39125     False\n",
       "81058      True\n",
       "137439    False\n",
       "Name: ad_clicks, dtype: bool"
      ]
     },
     "execution_count": 6,
     "metadata": {},
     "output_type": "execute_result"
    }
   ],
   "source": [
    "y_train.head()"
   ]
  },
  {
   "cell_type": "code",
   "execution_count": 7,
   "metadata": {
    "collapsed": false
   },
   "outputs": [
    {
     "name": "stdout",
     "output_type": "stream",
     "text": [
      "0\n",
      "10\n",
      "20\n",
      "30\n",
      "40\n"
     ]
    }
   ],
   "source": [
    "collected_values = []\n",
    "df_x = pd.DataFrame(X)\n",
    "names = feature_names\n",
    "for i in range(len(names)):\n",
    "    if i % 10 == 0:    # is even\n",
    "        print(i)\n",
    "    for j in range(len(names)):\n",
    "        if i==j:\n",
    "            collected_values.append([names[i], names[j], 1])\n",
    "        else:\n",
    "            c = df_x[[i, j]].corr().iloc[0,1].item()      #get correlation between the two variables\n",
    "            collected_values.append([names[i], names[j], c])  "
   ]
  },
  {
   "cell_type": "code",
   "execution_count": 8,
   "metadata": {
    "collapsed": false
   },
   "outputs": [],
   "source": [
    "cor_df = pd.DataFrame(collected_values, columns=['var1', 'var2', 'correlation'])\n",
    "cor_df = cor_df.pivot(\"var1\", \"var2\", \"correlation\")\n",
    "cor_df.to_csv(\"feature_correlation.csv\", index=False)"
   ]
  },
  {
   "cell_type": "code",
   "execution_count": 9,
   "metadata": {
    "collapsed": false
   },
   "outputs": [
    {
     "data": {
      "text/plain": [
       "<matplotlib.axes._subplots.AxesSubplot at 0x1189fe470>"
      ]
     },
     "execution_count": 9,
     "metadata": {},
     "output_type": "execute_result"
    },
    {
     "data": {
      "image/png": "[encoded data removed]",
      "text/plain": [
       "<matplotlib.figure.Figure at 0x1189e5c50>"
      ]
     },
     "metadata": {},
     "output_type": "display_data"
    }
   ],
   "source": [
    "%matplotlib inline\n",
    "import seaborn as sns\n",
    "sns.set()\n",
    "sns.heatmap(cor_df.iloc[0:len(names), 0:len(names)],  linewidths=.5)"
   ]
  },
  {
   "cell_type": "code",
   "execution_count": 10,
   "metadata": {
    "collapsed": false
   },
   "outputs": [
    {
     "name": "stdout",
     "output_type": "stream",
     "text": [
      "[ True  True  True False  True]\n",
      "[ True False False  True  True]\n",
      "Accuracy: 0.648\n"
     ]
    }
   ],
   "source": [
    "# the Perceptron model doesn't work if the data is not perfectly linearly separable\n",
    "#also, it cannot be plotted\n",
    "from sklearn.linear_model import Perceptron\n",
    "ppn = Perceptron(n_iter=100, eta0=0.1, random_state = 0)\n",
    "ppn.fit(X_train_std, y_train)\n",
    "y_pred = ppn.predict(X_test_std)\n",
    "\n",
    "print(y_test[0:5].values)\n",
    "print(y_pred[0:5])\n",
    "\n",
    "from sklearn.metrics import accuracy_score\n",
    "print('Accuracy: %.3f' % accuracy_score(y_test, y_pred))"
   ]
  },
  {
   "cell_type": "code",
   "execution_count": 11,
   "metadata": {
    "collapsed": false
   },
   "outputs": [
    {
     "name": "stdout",
     "output_type": "stream",
     "text": [
      "[ True  True  True False  True]\n",
      "[ True False  True  True  True]\n",
      "[[  3.62431899e-01   6.37568101e-01]\n",
      " [  6.59084977e-01   3.40915023e-01]\n",
      " [  1.07042038e-01   8.92957962e-01]\n",
      " [  4.66803063e-01   5.33196937e-01]\n",
      " [  7.39491592e-06   9.99992605e-01]]\n",
      "Accuracy: 0.716\n"
     ]
    }
   ],
   "source": [
    "#logistic regression to predict class probabilities\n",
    "from sklearn.linear_model import LogisticRegression\n",
    "lr = LogisticRegression(C = 0.1, random_state = 0)\n",
    "lr.fit(X_train_std, y_train)\n",
    "y_pred_prob = lr.predict_proba(X_test_std)\n",
    "y_pred = lr.predict(X_test_std)\n",
    "print(y_test[0:5].values)\n",
    "print(y_pred[0:5])\n",
    "print(y_pred_prob[0:5])\n",
    "\n",
    "from sklearn.metrics import accuracy_score, precision_score, recall_score\n",
    "print('Accuracy: %.3f' % accuracy_score(y_test, y_pred))"
   ]
  },
  {
   "cell_type": "markdown",
   "metadata": {
    "collapsed": false
   },
   "source": [
    "#support vector machines\n",
    "from sklearn.svm import SVC\n",
    "svm = SVC(kernel='rbf', C=1.0, gamma=0.0002, random_state = 0)\n",
    "svm.fit(X_train_std, y_train)\n",
    "y_pred = svm.predict(X_test_std)\n",
    "\n",
    "from sklearn.metrics import accuracy_score, precision_score, recall_score\n",
    "print('Accuracy: %.3f' % accuracy_score(y_test, y_pred))"
   ]
  },
  {
   "cell_type": "code",
   "execution_count": 8,
   "metadata": {
    "collapsed": false
   },
   "outputs": [
    {
     "name": "stdout",
     "output_type": "stream",
     "text": [
      "[ True  True  True False  True]\n",
      "[ True  True  True False  True]\n",
      "Accuracy: 0.762\n"
     ]
    }
   ],
   "source": [
    "#decision tree\n",
    "from sklearn.tree import DecisionTreeClassifier\n",
    "tree = DecisionTreeClassifier(criterion = 'entropy', max_depth = 5, random_state = 0)\n",
    "tree.fit(X_train_std, y_train)\n",
    "y_pred = tree.predict(X_test_std)\n",
    "print(y_test[0:5].values)\n",
    "print(y_pred[0:5])\n",
    "\n",
    "from sklearn.metrics import accuracy_score\n",
    "print('Accuracy: %.3f' % accuracy_score(y_test, y_pred))"
   ]
  },
  {
   "cell_type": "code",
   "execution_count": 9,
   "metadata": {
    "collapsed": false
   },
   "outputs": [
    {
     "name": "stdout",
     "output_type": "stream",
     "text": [
      "Accuracy: 0.820\n"
     ]
    }
   ],
   "source": [
    "from sklearn.ensemble import RandomForestClassifier\n",
    "forest = RandomForestClassifier(criterion = 'entropy', n_estimators = 25,n_jobs =2,\n",
    "                               random_state =0)\n",
    "forest.fit(X_train_std, y_train)\n",
    "y_pred = forest.predict(X_test_std)\n",
    "y_pred_prob = forest.predict_proba(X_test_std)\n",
    "\n",
    "from sklearn.metrics import accuracy_score\n",
    "print('Accuracy: %.3f' % accuracy_score(y_test, y_pred))"
   ]
  },
  {
   "cell_type": "code",
   "execution_count": null,
   "metadata": {
    "collapsed": false
   },
   "outputs": [],
   "source": [
    "from sklearn.neighbors import KNeighborsClassifier\n",
    "knn = KNeighborsClassifier(n_neighbors = 7, p=2, metric = 'minkowski')\n",
    "knn.fit(X_train_std, y_train)\n",
    "y_pred = knn.predict(X_test_std)\n",
    "\n",
    "from sklearn.metrics import accuracy_score, precision_score, recall_score\n",
    "print('Accuracy: %.3f' % accuracy_score(y_test, y_pred))"
   ]
  },
  {
   "cell_type": "code",
   "execution_count": null,
   "metadata": {
    "collapsed": false
   },
   "outputs": [],
   "source": [
    "from sklearn.ensemble import AdaBoostClassifier\n",
    "tree = DecisionTreeClassifier(criterion = 'entropy', max_depth = None, random_state=0)\n",
    "ada = AdaBoostClassifier(base_estimator = tree, n_estimators = 5000, learning_rate = 10.0,\n",
    "                        random_state = 0)\n",
    "\n",
    "tree.fit(X_train_std, y_train)\n",
    "y_pred = tree.predict(X_test_std)\n",
    "print(y_test[0:5].values)\n",
    "print(y_pred[0:5])\n",
    "\n",
    "from sklearn.metrics import accuracy_score\n",
    "print('Tree Accuracy: %.3f' % accuracy_score(y_test, y_pred))\n",
    "\n",
    "ada.fit(X_train_std, y_train)\n",
    "y_pred = ada.predict(X_test_std)\n",
    "\n",
    "print(y_test[0:5].values)\n",
    "print(y_pred[0:5])\n",
    "\n",
    "from sklearn.metrics import accuracy_score\n",
    "print('Adaboost Accuracy: %.3f' % accuracy_score(y_test, y_pred))"
   ]
  },
  {
   "cell_type": "code",
   "execution_count": 7,
   "metadata": {
    "collapsed": false
   },
   "outputs": [
    {
     "name": "stdout",
     "output_type": "stream",
     "text": [
      "Accuracy: 0.792\n",
      "precision_score: 0.760\n",
      "recall_score: 0.868\n",
      "70232\n"
     ]
    },
    {
     "data": {
      "text/html": [
       "<div>\n",
       "<table border=\"1\" class=\"dataframe\">\n",
       "  <thead>\n",
       "    <tr style=\"text-align: right;\">\n",
       "      <th></th>\n",
       "      <th>0</th>\n",
       "      <th>1</th>\n",
       "    </tr>\n",
       "  </thead>\n",
       "  <tbody>\n",
       "    <tr>\n",
       "      <th>0</th>\n",
       "      <td>24488</td>\n",
       "      <td>9848</td>\n",
       "    </tr>\n",
       "    <tr>\n",
       "      <th>1</th>\n",
       "      <td>4740</td>\n",
       "      <td>31156</td>\n",
       "    </tr>\n",
       "  </tbody>\n",
       "</table>\n",
       "</div>"
      ],
      "text/plain": [
       "       0      1\n",
       "0  24488   9848\n",
       "1   4740  31156"
      ]
     },
     "execution_count": 7,
     "metadata": {},
     "output_type": "execute_result"
    }
   ],
   "source": [
    "from sklearn.ensemble import GradientBoostingClassifier\n",
    "boost = GradientBoostingClassifier(learning_rate=0.1, n_estimators=100, random_state=0)\n",
    "boost.fit(X_train_std, y_train)\n",
    "y_pred = boost.predict(X_test_std)\n",
    "y_pred_gbc = y_pred\n",
    "y_pred_prob = boost.predict_proba(X_test_std)\n",
    "\n",
    "from sklearn.metrics import accuracy_score, precision_score, recall_score, confusion_matrix\n",
    "print('Accuracy: %.3f' % accuracy_score(y_test, y_pred))\n",
    "print('precision_score: %.3f' % precision_score(y_test, y_pred))\n",
    "print('recall_score: %.3f' % recall_score(y_test, y_pred))\n",
    "print(len(y_test))\n",
    "pd.DataFrame(confusion_matrix(y_test, y_pred))\n",
    "#col represents predictions\n",
    "#row represents actual"
   ]
  },
  {
   "cell_type": "code",
   "execution_count": 16,
   "metadata": {
    "collapsed": false
   },
   "outputs": [
    {
     "data": {
      "text/plain": [
       "<matplotlib.figure.Figure at 0x119a90be0>"
      ]
     },
     "metadata": {},
     "output_type": "display_data"
    },
    {
     "data": {
      "image/png": "[encoded data removed]",
      "text/plain": [
       "<matplotlib.figure.Figure at 0x119aa2d30>"
      ]
     },
     "metadata": {},
     "output_type": "display_data"
    }
   ],
   "source": [
    "from matplotlib.colors import ListedColormap\n",
    "import matplotlib.pyplot as plt\n",
    "\n",
    "%matplotlib inline\n",
    "from sklearn.ensemble.partial_dependence import plot_partial_dependence\n",
    "clf = GradientBoostingClassifier(n_estimators=100, learning_rate=1.0,\n",
    "                                 max_depth=1, random_state=0).fit(X_train_std, y_train)\n",
    "features = [0, 41, (0, 41)]\n",
    "\n",
    "width = 20\n",
    "height = 12\n",
    "plt.figure(figsize=(width, height))\n",
    "\n",
    "fig, axs = plot_partial_dependence(clf, X_train_std, features, label=2) "
   ]
  },
  {
   "cell_type": "code",
   "execution_count": 10,
   "metadata": {
    "collapsed": false
   },
   "outputs": [
    {
     "name": "stdout",
     "output_type": "stream",
     "text": [
      "42\n",
      "42\n",
      "0.023809523809523808\n"
     ]
    },
    {
     "data": {
      "text/html": [
       "<div>\n",
       "<table border=\"1\" class=\"dataframe\">\n",
       "  <thead>\n",
       "    <tr style=\"text-align: right;\">\n",
       "      <th></th>\n",
       "      <th>feature_names</th>\n",
       "      <th>importance</th>\n",
       "      <th>indexed_importance</th>\n",
       "    </tr>\n",
       "  </thead>\n",
       "  <tbody>\n",
       "    <tr>\n",
       "      <th>0</th>\n",
       "      <td>num_results</td>\n",
       "      <td>0.17</td>\n",
       "      <td>7.14</td>\n",
       "    </tr>\n",
       "    <tr>\n",
       "      <th>41</th>\n",
       "      <td>mys_feature_2</td>\n",
       "      <td>0.15</td>\n",
       "      <td>6.30</td>\n",
       "    </tr>\n",
       "    <tr>\n",
       "      <th>1</th>\n",
       "      <td>stay_duration</td>\n",
       "      <td>0.10</td>\n",
       "      <td>4.20</td>\n",
       "    </tr>\n",
       "    <tr>\n",
       "      <th>3</th>\n",
       "      <td>historical_searches</td>\n",
       "      <td>0.09</td>\n",
       "      <td>3.78</td>\n",
       "    </tr>\n",
       "    <tr>\n",
       "      <th>2</th>\n",
       "      <td>days_advance</td>\n",
       "      <td>0.05</td>\n",
       "      <td>2.10</td>\n",
       "    </tr>\n",
       "    <tr>\n",
       "      <th>16</th>\n",
       "      <td>device_msafari</td>\n",
       "      <td>0.05</td>\n",
       "      <td>2.10</td>\n",
       "    </tr>\n",
       "    <tr>\n",
       "      <th>4</th>\n",
       "      <td>log_historical_searches</td>\n",
       "      <td>0.05</td>\n",
       "      <td>2.10</td>\n",
       "    </tr>\n",
       "    <tr>\n",
       "      <th>5</th>\n",
       "      <td>historical_clicks</td>\n",
       "      <td>0.03</td>\n",
       "      <td>1.26</td>\n",
       "    </tr>\n",
       "    <tr>\n",
       "      <th>8</th>\n",
       "      <td>device_tablet</td>\n",
       "      <td>0.03</td>\n",
       "      <td>1.26</td>\n",
       "    </tr>\n",
       "    <tr>\n",
       "      <th>19</th>\n",
       "      <td>same_country</td>\n",
       "      <td>0.03</td>\n",
       "      <td>1.26</td>\n",
       "    </tr>\n",
       "  </tbody>\n",
       "</table>\n",
       "</div>"
      ],
      "text/plain": [
       "              feature_names  importance  indexed_importance\n",
       "0               num_results        0.17                7.14\n",
       "41            mys_feature_2        0.15                6.30\n",
       "1             stay_duration        0.10                4.20\n",
       "3       historical_searches        0.09                3.78\n",
       "2              days_advance        0.05                2.10\n",
       "16           device_msafari        0.05                2.10\n",
       "4   log_historical_searches        0.05                2.10\n",
       "5         historical_clicks        0.03                1.26\n",
       "8             device_tablet        0.03                1.26\n",
       "19             same_country        0.03                1.26"
      ]
     },
     "execution_count": 10,
     "metadata": {},
     "output_type": "execute_result"
    }
   ],
   "source": [
    "print(len(clf.feature_importances_))\n",
    "print(len(feature_names))\n",
    "print(1.0/len(clf.feature_importances_ ))\n",
    "\n",
    "d = {'importance': clf.feature_importances_,\n",
    "     'feature_names': feature_names}\n",
    "df = pd.DataFrame(d).sort_values('importance', ascending=False)\n",
    "df[['indexed_importance']] = df[['importance']]/(1.0/len(clf.feature_importances_ ))\n",
    "df.head(10)"
   ]
  },
  {
   "cell_type": "code",
   "execution_count": null,
   "metadata": {
    "collapsed": false
   },
   "outputs": [],
   "source": [
    "#an ensemble- classification with majority vote?\n",
    "from sklearn.ensemble import VotingClassifier\n",
    "estimators = []\n",
    "model1 = LogisticRegression(C = 0.1, random_state = 0)\n",
    "estimators.append(('logistic', model1))\n",
    "model2 = GradientBoostingClassifier(n_estimators=100, random_state = 0)\n",
    "estimators.append(('cart', model2))\n",
    "model3 = SVC(kernel='rbf', C=1.0, gamma=0.0002, random_state = 0)\n",
    "estimators.append(('svm', model3))\n",
    "# create the ensemble model\n",
    "ensemble = VotingClassifier(estimators)\n",
    "\n",
    "y_pred = [c.fit(X_train_std, y_train).predict(X_test_std) for c in (model1, model2, model3, ensemble)]\n",
    "\n",
    "from sklearn.metrics import accuracy_score\n",
    "print('Accuracy: %.3f' % accuracy_score(y_test, y_pred[3]))"
   ]
  },
  {
   "cell_type": "code",
   "execution_count": null,
   "metadata": {
    "collapsed": true
   },
   "outputs": [],
   "source": []
  }
 ],
 "metadata": {
  "anaconda-cloud": {},
  "kernelspec": {
   "display_name": "Python 3",
   "language": "python",
   "name": "python3"
  },
  "language_info": {
   "codemirror_mode": {
    "name": "ipython",
    "version": 3
   },
   "file_extension": ".py",
   "mimetype": "text/x-python",
   "name": "python",
   "nbconvert_exporter": "python",
   "pygments_lexer": "ipython3",
   "version": "3.6.0"
  }
 },
 "nbformat": 4,
 "nbformat_minor": 1
}
